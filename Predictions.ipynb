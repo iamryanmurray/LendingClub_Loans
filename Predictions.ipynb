{
 "cells": [
  {
   "cell_type": "code",
   "execution_count": 22,
   "metadata": {},
   "outputs": [
    {
     "name": "stdout",
     "output_type": "stream",
     "text": [
      "<class 'pandas.core.frame.DataFrame'>\n",
      "RangeIndex: 39724 entries, 0 to 39723\n",
      "Data columns (total 38 columns):\n",
      "loan_amnt                              39724 non-null float64\n",
      "int_rate                               39724 non-null float64\n",
      "installment                            39724 non-null float64\n",
      "emp_length                             39724 non-null int64\n",
      "annual_inc                             39724 non-null float64\n",
      "loan_status                            39724 non-null int64\n",
      "dti                                    39724 non-null float64\n",
      "delinq_2yrs                            39724 non-null float64\n",
      "inq_last_6mths                         39724 non-null float64\n",
      "open_acc                               39724 non-null float64\n",
      "pub_rec                                39724 non-null float64\n",
      "revol_bal                              39724 non-null float64\n",
      "revol_util                             39724 non-null float64\n",
      "total_acc                              39724 non-null float64\n",
      "home_ownership_MORTGAGE                39724 non-null int64\n",
      "home_ownership_NONE                    39724 non-null int64\n",
      "home_ownership_OTHER                   39724 non-null int64\n",
      "home_ownership_OWN                     39724 non-null int64\n",
      "home_ownership_RENT                    39724 non-null int64\n",
      "verification_status_Not Verified       39724 non-null int64\n",
      "verification_status_Source Verified    39724 non-null int64\n",
      "verification_status_Verified           39724 non-null int64\n",
      "purpose_car                            39724 non-null int64\n",
      "purpose_credit_card                    39724 non-null int64\n",
      "purpose_debt_consolidation             39724 non-null int64\n",
      "purpose_educational                    39724 non-null int64\n",
      "purpose_home_improvement               39724 non-null int64\n",
      "purpose_house                          39724 non-null int64\n",
      "purpose_major_purchase                 39724 non-null int64\n",
      "purpose_medical                        39724 non-null int64\n",
      "purpose_moving                         39724 non-null int64\n",
      "purpose_other                          39724 non-null int64\n",
      "purpose_renewable_energy               39724 non-null int64\n",
      "purpose_small_business                 39724 non-null int64\n",
      "purpose_vacation                       39724 non-null int64\n",
      "purpose_wedding                        39724 non-null int64\n",
      "term_ 36 months                        39724 non-null int64\n",
      "term_ 60 months                        39724 non-null int64\n",
      "dtypes: float64(12), int64(26)\n",
      "memory usage: 11.5 MB\n",
      "None\n"
     ]
    }
   ],
   "source": [
    "import pandas as pd\n",
    "loans = pd.read_csv('cleaned_loans_2007.csv')\n",
    "print(loans.info())\n"
   ]
  },
  {
   "cell_type": "code",
   "execution_count": 6,
   "metadata": {
    "collapsed": true
   },
   "outputs": [],
   "source": [
    "#Set up a function to calculate True/False positive rate\n",
    "\n",
    "def tpr_fpr(predictions, loans):\n",
    "    tn_filter = (predictions == 0) & (loans[\"loan_status\"] == 0)\n",
    "    tn = len(predictions[tn_filter])\n",
    "    tp_filter = (predictions == 1) & (loans[\"loan_status\"] == 1)\n",
    "    tp = len(predictions[tp_filter])\n",
    "    fn_filter = (predictions == 0) & (loans[\"loan_status\"] == 1)\n",
    "    fn = len(predictions[fn_filter])\n",
    "    fp_filter = (predictions == 1) & (loans[\"loan_status\"] == 0)\n",
    "    fp = len(predictions[fp_filter])\n",
    "\n",
    "    fpr = fp/(fp+tn)\n",
    "    tpr = tp/(tp+fn)\n",
    "\n",
    "    print(\"True Positve Rate: {}, False Postiive Rate: {}.\".format(tpr, fpr))"
   ]
  },
  {
   "cell_type": "code",
   "execution_count": 8,
   "metadata": {},
   "outputs": [
    {
     "name": "stdout",
     "output_type": "stream",
     "text": [
      "True Positve Rate: 0.999354327473366, False Postiive Rate: 0.9982304016988144.\n"
     ]
    }
   ],
   "source": [
    "#First try a basic logistic regression model.\n",
    "\n",
    "from sklearn.linear_model import LogisticRegression\n",
    "lr = LogisticRegression()\n",
    "features = loans.drop('loan_status',axis=1)\n",
    "target = loans['loan_status']\n",
    "lr.fit(features,target)\n",
    "predictions = lr.predict(features)\n",
    "\n",
    "tpr_fpr(predictions,loans)\n",
    "\n",
    "#This model will overfit, because we are training and testing on the same data."
   ]
  },
  {
   "cell_type": "code",
   "execution_count": 10,
   "metadata": {},
   "outputs": [
    {
     "name": "stdout",
     "output_type": "stream",
     "text": [
      "True Positve Rate: 0.9991488862148915, False Postiive Rate: 0.9989382410192886.\n"
     ]
    }
   ],
   "source": [
    "#Now try using cross_val_predict\n",
    "\n",
    "from sklearn.linear_model import LogisticRegression\n",
    "from sklearn.cross_validation import cross_val_predict, KFold\n",
    "\n",
    "\n",
    "lr = LogisticRegression()\n",
    "kf = KFold(features.shape[0], random_state=1)\n",
    "predictions = cross_val_predict(lr, features, y=target, cv=kf)\n",
    "predictions = pd.Series(predictions)\n",
    "\n",
    "tpr_fpr(predictions,loans)\n",
    "\n",
    "#We still see that true/false positive rates are close to 1.  This is due to the class imbalance in the dataset.  \n",
    "#There is approximately a 6:1 ratio of Fully Paid: Charged Off in the dataset."
   ]
  },
  {
   "cell_type": "code",
   "execution_count": 11,
   "metadata": {},
   "outputs": [
    {
     "name": "stdout",
     "output_type": "stream",
     "text": [
      "True Positve Rate: 0.6594664397029907, False Postiive Rate: 0.3935586621836843.\n"
     ]
    }
   ],
   "source": [
    "#Next, try using a class weight of \"balanced\"\n",
    "\n",
    "lr = LogisticRegression(class_weight='balanced')\n",
    "kf = KFold(features.shape[0], random_state=1)\n",
    "predictions = cross_val_predict(lr, features, y=target, cv=kf)\n",
    "predictions = pd.Series(predictions)\n",
    "\n",
    "tpr_fpr(predictions,loans)\n",
    "\n",
    "#We reduce the false positive rate to approximately 0.4, but also reduce the true positive rate to 0.66.  \n",
    "#This reduces our number of possible loans to invest in, but also lowers the risk. "
   ]
  },
  {
   "cell_type": "code",
   "execution_count": 12,
   "metadata": {},
   "outputs": [
    {
     "name": "stdout",
     "output_type": "stream",
     "text": [
      "True Positve Rate: 0.2229624629472016, False Postiive Rate: 0.08228632100513184.\n"
     ]
    }
   ],
   "source": [
    "#To reduce the false positive rate further, we can assign a harsher penalty to the bad loans \n",
    "#by changing the class_weight parameter.\n",
    "\n",
    "\n",
    "penalty = {\n",
    "    0: 10,\n",
    "    1: 1\n",
    "}\n",
    "\n",
    "lr = LogisticRegression(class_weight=penalty)\n",
    "kf = KFold(features.shape[0], random_state=1)\n",
    "predictions = cross_val_predict(lr, features, y=target, cv=kf)\n",
    "predictions = pd.Series(predictions)\n",
    "\n",
    "tpr_fpr(predictions,loans)\n",
    "\n",
    "\n",
    "#The false positive rate has been reduced to approximately 8%, but now we are rejecting more than 3/4 of the good loans.\n",
    "#As a conservative investor, this might make sense, but it does eliminate the possibility to make money on the other loans.\n",
    "#However, this model is successful, because randomly choosing loans will lead do 14% of borrowers failing to repay the loan."
   ]
  },
  {
   "cell_type": "code",
   "execution_count": 13,
   "metadata": {},
   "outputs": [
    {
     "name": "stdout",
     "output_type": "stream",
     "text": [
      "True Positve Rate: 0.9766677427875444, False Postiive Rate: 0.9470890107945497.\n"
     ]
    }
   ],
   "source": [
    "#We can try using a random forest classifier, which may increase accuracy because it can account for columns\n",
    "#that correlate non-linearly with loan_status\n",
    "\n",
    "from sklearn.ensemble import RandomForestClassifier\n",
    "\n",
    "rf = RandomForestClassifier(class_weight='balanced',random_state=1)\n",
    "kf = KFold(features.shape[0], random_state=1)\n",
    "predictions = cross_val_predict(rf, features, y=target, cv=kf)\n",
    "predictions = pd.Series(predictions)\n",
    "\n",
    "tpr_fpr(predictions,loans)\n",
    "\n",
    "#Unfortuantely this model did not reduce the false positive rate.  We can try adjusting some of the parameters."
   ]
  },
  {
   "cell_type": "code",
   "execution_count": 14,
   "metadata": {},
   "outputs": [
    {
     "name": "stdout",
     "output_type": "stream",
     "text": [
      "True Positve Rate: 0.9789275966307633, False Postiive Rate: 0.9477968501150239.\n"
     ]
    }
   ],
   "source": [
    "#Try using a harsher penalty for bad loans.\n",
    "\n",
    "penalty = {\n",
    "    0: 10,\n",
    "    1: 1\n",
    "}\n",
    "\n",
    "\n",
    "rf = RandomForestClassifier(class_weight=penalty,random_state=1)\n",
    "kf = KFold(features.shape[0], random_state=1)\n",
    "predictions = cross_val_predict(rf, features, y=target, cv=kf)\n",
    "predictions = pd.Series(predictions)\n",
    "\n",
    "tpr_fpr(predictions,loans)\n",
    "\n",
    "#This did not change the false positive rate much at all, it seems that the random forest classifier is largely insensitive\n",
    "#to changes in the class weight."
   ]
  },
  {
   "cell_type": "code",
   "execution_count": 20,
   "metadata": {},
   "outputs": [
    {
     "name": "stdout",
     "output_type": "stream",
     "text": [
      "True Positve Rate: 0.49602324421095884, False Postiive Rate: 0.2712794195717572.\n",
      "True Positve Rate: 0.5454171924984592, False Postiive Rate: 0.3087949035568926.\n",
      "True Positve Rate: 0.634842837437267, False Postiive Rate: 0.3820562732259777.\n",
      "True Positve Rate: 0.5995949872332932, False Postiive Rate: 0.350734383294992.\n",
      "True Positve Rate: 0.6216358993924809, False Postiive Rate: 0.36825340647672977.\n",
      "True Positve Rate: 0.6577348633815631, False Postiive Rate: 0.3970978587860556.\n",
      "True Positve Rate: 0.6847944119977695, False Postiive Rate: 0.4347903026013095.\n",
      "True Positve Rate: 0.7029025914947319, False Postiive Rate: 0.4622190762696868.\n",
      "True Positve Rate: 0.7366243066357526, False Postiive Rate: 0.5153070253052557.\n"
     ]
    }
   ],
   "source": [
    "#Try manipulating the max_depth\n",
    "\n",
    "for i in range(1,10):\n",
    "    \n",
    "\n",
    "    rf = RandomForestClassifier(class_weight='balanced',random_state=1,max_depth=i)\n",
    "    kf = KFold(features.shape[0], random_state=1)\n",
    "    predictions = cross_val_predict(rf, features, y=target, cv=kf)\n",
    "    predictions = pd.Series(predictions)\n",
    "\n",
    "    tpr_fpr(predictions,loans)\n",
    "\n",
    "\n",
    "#Limiting the depth of the tree reduces the false positive rate at the expense of the true positive rate\n",
    "#However, none of the models preform better than randomly choosing loans to fund."
   ]
  },
  {
   "cell_type": "code",
   "execution_count": 44,
   "metadata": {},
   "outputs": [
    {
     "name": "stdout",
     "output_type": "stream",
     "text": [
      "True Positve Rate: 0.9756698852463828, False Postiive Rate: 0.9417802158909927.\n",
      "True Positve Rate: 0.9496375429225486, False Postiive Rate: 0.8957706600601664.\n",
      "True Positve Rate: 0.9244563143838229, False Postiive Rate: 0.8322420810476022.\n",
      "True Positve Rate: 0.9030610747512693, False Postiive Rate: 0.7885330030083171.\n",
      "True Positve Rate: 0.8862442403075749, False Postiive Rate: 0.7554415147761459.\n",
      "True Positve Rate: 0.867372993279136, False Postiive Rate: 0.719341709431959.\n",
      "True Positve Rate: 0.8550465177706689, False Postiive Rate: 0.6961599716864272.\n",
      "True Positve Rate: 0.8464179849147418, False Postiive Rate: 0.6754556715625553.\n",
      "True Positve Rate: 0.8342676019135385, False Postiive Rate: 0.6611219253229517.\n"
     ]
    }
   ],
   "source": [
    "#Try manipulating min_samples_split\n",
    "for i in range(5,50,5):\n",
    "    rf = RandomForestClassifier(class_weight='balanced',random_state=1,min_samples_split=i)\n",
    "    kf = KFold(features.shape[0], random_state=1)\n",
    "    predictions = cross_val_predict(rf, features, y=target, cv=kf)\n",
    "    predictions = pd.Series(predictions)\n",
    "\n",
    "    tpr_fpr(predictions,loans)"
   ]
  },
  {
   "cell_type": "code",
   "execution_count": 46,
   "metadata": {},
   "outputs": [
    {
     "name": "stdout",
     "output_type": "stream",
     "text": [
      "True Positve Rate: 0.23825316232794294, False Postiive Rate: 0.07591576712086356.\n"
     ]
    }
   ],
   "source": [
    "#Use a combination of penalty, min_samples_split, and max_depth.\n",
    "\n",
    "penalty = {\n",
    "    0: 12,\n",
    "    1: 1\n",
    "}\n",
    "\n",
    "rf = RandomForestClassifier(class_weight=penalty,random_state=1,min_samples_split=20,max_depth=5)\n",
    "kf = KFold(features.shape[0], random_state=1)\n",
    "predictions = cross_val_predict(rf, features, y=target, cv=kf)\n",
    "predictions = pd.Series(predictions)\n",
    "\n",
    "tpr_fpr(predictions,loans)\n",
    "\n",
    "#Using a combination of penalty, min_samples_split, and max_depth, we can find a model using the \n",
    "#random forest classifier that has both a lower false positive rate and higher true positive \n",
    "#rate than the logistic regression model."
   ]
  },
  {
   "cell_type": "code",
   "execution_count": null,
   "metadata": {
    "collapsed": true
   },
   "outputs": [],
   "source": []
  }
 ],
 "metadata": {
  "kernelspec": {
   "display_name": "Python 3",
   "language": "python",
   "name": "python3"
  },
  "language_info": {
   "codemirror_mode": {
    "name": "ipython",
    "version": 3
   },
   "file_extension": ".py",
   "mimetype": "text/x-python",
   "name": "python",
   "nbconvert_exporter": "python",
   "pygments_lexer": "ipython3",
   "version": "3.6.1"
  }
 },
 "nbformat": 4,
 "nbformat_minor": 2
}
